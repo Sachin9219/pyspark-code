{
 "cells": [
  {
   "cell_type": "code",
   "execution_count": 1,
   "id": "6ba85e4c",
   "metadata": {},
   "outputs": [
    {
     "data": {
      "text/plain": [
       "'C:\\\\spark\\\\spark-3.0.0-preview-bin-hadoop2.7'"
      ]
     },
     "execution_count": 1,
     "metadata": {},
     "output_type": "execute_result"
    }
   ],
   "source": [
    "import findspark\n",
    "findspark.init()\n",
    "findspark.find()\n",
    "import pyspark\n",
    "findspark.find()"
   ]
  },
  {
   "cell_type": "code",
   "execution_count": 2,
   "id": "3378f0c9",
   "metadata": {},
   "outputs": [],
   "source": [
    "from pyspark import SparkContext, SparkConf\n",
    "from pyspark.sql import SparkSession\n",
    "conf = pyspark.SparkConf().setAppName('International_Trip').setMaster('local')\n",
    "sc = pyspark.SparkContext(conf=conf)\n",
    "spark = SparkSession(sc)"
   ]
  },
  {
   "cell_type": "code",
   "execution_count": 3,
   "id": "e7d4300a",
   "metadata": {},
   "outputs": [
    {
     "data": {
      "text/html": [
       "\n",
       "            <div>\n",
       "                <p><b>SparkSession - in-memory</b></p>\n",
       "                \n",
       "        <div>\n",
       "            <p><b>SparkContext</b></p>\n",
       "\n",
       "            <p><a href=\"http://DESKTOP-U21GL9O:4040\">Spark UI</a></p>\n",
       "\n",
       "            <dl>\n",
       "              <dt>Version</dt>\n",
       "                <dd><code>v3.0.0-preview</code></dd>\n",
       "              <dt>Master</dt>\n",
       "                <dd><code>local</code></dd>\n",
       "              <dt>AppName</dt>\n",
       "                <dd><code>International_Trip</code></dd>\n",
       "            </dl>\n",
       "        </div>\n",
       "        \n",
       "            </div>\n",
       "        "
      ],
      "text/plain": [
       "<pyspark.sql.session.SparkSession at 0x1587d66c3a0>"
      ]
     },
     "execution_count": 3,
     "metadata": {},
     "output_type": "execute_result"
    }
   ],
   "source": [
    "spark"
   ]
  },
  {
   "cell_type": "code",
   "execution_count": 4,
   "id": "d97991f8",
   "metadata": {},
   "outputs": [],
   "source": [
    "#Import Library\n",
    "#import findspark\n",
    "#findspark.init()\n",
    "import pyspark\n",
    "from pyspark.sql import SparkSession\n",
    "from pyspark.sql.functions import to_date\n",
    "from pyspark.sql.functions import month\n",
    "from pyspark.sql.functions import *\n",
    "import pandas as pd\n",
    "from pyspark.sql.functions import round,array,col,ntile,rank,asc,sum,desc,lag,lead,when,first,min,max,count\n",
    "# For Adding row number/index\n",
    "from pyspark.sql.functions import row_number, monotonically_increasing_id\n",
    "from pyspark.sql import Window\n",
    "import pyspark\n",
    "from pyspark import SparkContext\n",
    "from pyspark import SparkContext, SparkConf, keyword_only\n",
    "from pyspark.sql import SparkSession\n",
    "#from pyspark.sql import SQLContext, HiveContext, SparkSession\n",
    "from pyspark.sql import Row"
   ]
  },
  {
   "cell_type": "code",
   "execution_count": 5,
   "id": "de2293a3",
   "metadata": {},
   "outputs": [],
   "source": [
    "# spark = SparkSession.builder.appName('international_trip')\\\n",
    "# .config(\"spark.driver.memory\", \"4g\")\\\n",
    "# .config('spark.executor.cores','4')\\\n",
    "# .config('spark.executor.memory','12g')\\\n",
    "# .config('spark.sql.broadcastTimeout','2000')\\\n",
    "# .config(\"spark.sql.autoBroadcastJoinThreshold\", -1)\\\n",
    "# .getOrCreate()\n",
    "\n",
    "# spark"
   ]
  },
  {
   "cell_type": "code",
   "execution_count": 5,
   "id": "1dbfd59a",
   "metadata": {},
   "outputs": [],
   "source": [
    "# import data\n",
    "cc_ndc=spark.read.option('header','true').csv(r\"C:\\Users\\harin\\Desktop\\international\\Raw_Data\\cc_ndc.csv\",inferSchema='true')\n",
    "cell_mr=spark.read.option('header','true').csv(r\"C:\\Users\\harin\\Desktop\\international\\Raw_Data\\Cell_mr_data_nov.csv\",inferSchema='true')\n",
    "Roming_data=spark.read.option('header','true').csv(r\"C:\\Users\\harin\\Desktop\\international\\Raw_Data\\Roming_data_nov.csv\",inferSchema='true')\n",
    "Simtofly=spark.read.option('header','true').csv(r\"C:\\Users\\harin\\Desktop\\international\\Raw_Data\\Simtofly_nov.csv\",inferSchema='true')"
   ]
  },
  {
   "cell_type": "code",
   "execution_count": 11,
   "id": "e8732d7d",
   "metadata": {},
   "outputs": [],
   "source": [
    "cell_mr1=cell_mr.withColumn('time_in',when(col('time_in').contains(\"00:00\"),col('time_out')).otherwise(col('time_in')))"
   ]
  },
  {
   "cell_type": "code",
   "execution_count": 15,
   "id": "3fdd7dd9",
   "metadata": {},
   "outputs": [],
   "source": [
    "import pyspark.sql.functions as F\n",
    "cell_mr1=cell_mr1.withColumn('time_in',F.to_timestamp(col('time_in'), 'dd-MM-yyyy HH:mm'))\\\n",
    "            .withColumn('time_out',F.to_timestamp(col('time_out'), 'dd-MM-yyyy HH:mm'))"
   ]
  },
  {
   "cell_type": "code",
   "execution_count": 19,
   "id": "6f9bf04f",
   "metadata": {
    "scrolled": true
   },
   "outputs": [],
   "source": [
    "#cell_mr2=cell_mr1.filter(col(\"time_in\").contains(\"00:00:00\"))\n",
    "# cell_mr3=cell_mr1.where(~col('time_in').contains(\"00:00\"))"
   ]
  },
  {
   "cell_type": "code",
   "execution_count": 11,
   "id": "e4c207ab",
   "metadata": {},
   "outputs": [],
   "source": [
    "# cell_mr2=cell_mr2.withColumnRenamed(\"time_in_dt\",\"time_out_dt1\").withColumnRenamed(\"time_out_dt\",\"time_in_dt\")\n",
    "# cell_mr2=cell_mr2.withColumnRenamed(\"time_out_dt1\",\"time_out_dt\")\n",
    "\n",
    "# cell_mr4 = cell_mr2.union(cell_mr3)\n",
    "# #cell_mr4.count()"
   ]
  },
  {
   "cell_type": "code",
   "execution_count": 21,
   "id": "99bb7aaa",
   "metadata": {},
   "outputs": [],
   "source": [
    "Roming_data=Roming_data.withColumn('partition_dt',to_timestamp(Roming_data.partition_date, 'dd-MM-yyyy'))\\\n",
    "            .withColumn('activetime_dt',to_timestamp(Roming_data.activetime, 'dd-MM-yyyy HH:mm'))\n",
    "\n",
    "Roming_data=Roming_data.withColumn('activetime_month',month(Roming_data.activetime_dt))\\\n",
    ".withColumn('partition_month',month(Roming_data.partition_dt))\n",
    "#Roming_data.count()"
   ]
  },
  {
   "cell_type": "code",
   "execution_count": 22,
   "id": "82ecee09",
   "metadata": {},
   "outputs": [],
   "source": [
    "Roming_data1=Roming_data.filter(Roming_data.activetime_month==Roming_data.partition_month)\n",
    "Roming_data2=Roming_data1.join(cc_ndc,(Roming_data1.visitcc==cc_ndc.cc) & (Roming_data1.visitndc==cc_ndc.ndc),'left' )"
   ]
  },
  {
   "cell_type": "code",
   "execution_count": 23,
   "id": "5f0d7c21",
   "metadata": {},
   "outputs": [],
   "source": [
    "Roming_data3=Roming_data2.select('batchtime','activetime','imsi','c360_subscription_identifier',\n",
    "                                 'msisdn','mcc','mnc','visitcc','visitndc','partition_date','partition_dt',\n",
    "                                 'activetime_dt','activetime_month','partition_month','cc','ndc','operator_name',\n",
    "                                 'country_name')\n",
    "Roming_data3=Roming_data3.dropDuplicates()\n",
    "#Roming_data3.count()"
   ]
  },
  {
   "cell_type": "code",
   "execution_count": 24,
   "id": "e65b15b4",
   "metadata": {},
   "outputs": [],
   "source": [
    "Roming_Simtofly=Roming_data3.join(Simtofly.select('imsi','imsi_sim2fly'),['imsi'],'left')\n",
    "#Roming_Simtofly.count()"
   ]
  },
  {
   "cell_type": "code",
   "execution_count": 25,
   "id": "754d36bc",
   "metadata": {},
   "outputs": [],
   "source": [
    "Roming_Simtofly = Roming_Simtofly.withColumn(\"imsi\", when(col(\"imsi_sim2fly\").isNull(),col(\"imsi\")\n",
    "                                                         ).otherwise(col(\"imsi_sim2fly\")))\n",
    "#Roming_Simtofly.count()"
   ]
  },
  {
   "cell_type": "code",
   "execution_count": 26,
   "id": "5d5db074",
   "metadata": {},
   "outputs": [],
   "source": [
    "cell_mr1=cell_mr1.withColumn(\"country_name\", lit('thailand'))\n",
    "#cell_mr4.count()"
   ]
  },
  {
   "cell_type": "code",
   "execution_count": 27,
   "id": "c4a1dbe7",
   "metadata": {},
   "outputs": [],
   "source": [
    "Roming_Simtofly=Roming_Simtofly.withColumnRenamed(\"activetime\",\"time_in\")\n",
    "#Roming_Simtofly.count()"
   ]
  },
  {
   "cell_type": "code",
   "execution_count": 39,
   "id": "9403bef6",
   "metadata": {},
   "outputs": [],
   "source": [
    "Roming_Simtofly=Roming_Simtofly.withColumn('time_in',to_timestamp(col('time_in'), 'dd-MM-yyyy HH:mm'))"
   ]
  },
  {
   "cell_type": "code",
   "execution_count": 40,
   "id": "5df5ec02",
   "metadata": {},
   "outputs": [
    {
     "data": {
      "text/plain": [
       "7500"
      ]
     },
     "execution_count": 40,
     "metadata": {},
     "output_type": "execute_result"
    }
   ],
   "source": [
    "from pyspark.sql import DataFrame\n",
    "from pyspark.sql import functions as F\n",
    "\n",
    "def add_missing_columns(df: DataFrame, ref_df: DataFrame) -> DataFrame:\n",
    "    for col in ref_df.schema:\n",
    "        if col.name not in df.columns:\n",
    "            df = df.withColumn(col.name, F.lit(None).cast(col.dataType))\n",
    "\n",
    "    return df\n",
    "\n",
    "df1 = add_missing_columns(cell_mr1, Roming_Simtofly)\n",
    "df2 = add_missing_columns(Roming_Simtofly, cell_mr1)\n",
    "\n",
    "df_result = df1.unionByName(df2)\n",
    "df_result.count()"
   ]
  },
  {
   "cell_type": "code",
   "execution_count": 29,
   "id": "e332b86d",
   "metadata": {},
   "outputs": [],
   "source": [
    "# df_result=df_result.withColumn('time_in',F.to_timestamp(df_result.time_in, 'dd-MM-yyyy HH:mm'))\\\n",
    "# .withColumn('time_out',F.to_timestamp(df_result.time_out, 'dd-MM-yyyy HH:mm'))\n",
    "# #df_result.count()"
   ]
  },
  {
   "cell_type": "code",
   "execution_count": 42,
   "id": "a8cbfc14",
   "metadata": {},
   "outputs": [
    {
     "data": {
      "text/plain": [
       "6410"
      ]
     },
     "execution_count": 42,
     "metadata": {},
     "output_type": "execute_result"
    }
   ],
   "source": [
    "df=df_result.select(['imsi','grid_id','grid_name','grid_latitude','grid_longitude','source_flag','region_id','region_name',\n",
    " 'sub_region_id','sub_region_name','province_id','province_name','district_id','district_name','sub_district_id','sub_district_name','time_in',\n",
    " 'time_out','hour_in','hour_out','duration','country_network_code','c360_subscription_identifier','inbound_flag','indoor_flag',\n",
    " 'cell_ids','country_name','operator_name','mcc','mnc','cc','ndc','imsi_sim2fly']) \n",
    "df=df.dropDuplicates()\n",
    "df.count()"
   ]
  },
  {
   "cell_type": "code",
   "execution_count": 44,
   "id": "fbba89b1",
   "metadata": {},
   "outputs": [],
   "source": [
    "df.repartition(1).write.option(\"header\",True).mode(\"overwrite\").csv(r\"C:\\Users\\harin\\Desktop\\international\\Raw_Data\\test_output\\international_trip_data\")"
   ]
  },
  {
   "cell_type": "code",
   "execution_count": 45,
   "id": "061d0431",
   "metadata": {},
   "outputs": [],
   "source": [
    "unique_imsi = df.select('imsi').distinct()\n",
    "unique_imsi = unique_imsi.withColumn('time_in', F.lit(\"2000-01-01 00:00:00\"))\n",
    "unique_imsi = unique_imsi.withColumn('country_name', F.lit(\"thailand\"))\n",
    "#unique_imsi.show()"
   ]
  },
  {
   "cell_type": "code",
   "execution_count": null,
   "id": "375a8a71",
   "metadata": {},
   "outputs": [],
   "source": []
  },
  {
   "cell_type": "code",
   "execution_count": 46,
   "id": "3bc9d54f",
   "metadata": {},
   "outputs": [],
   "source": [
    "missing_columns = set(df.columns) - set(unique_imsi.columns)\n",
    "for column in missing_columns:\n",
    "    unique_imsi = unique_imsi.withColumn(column, F.lit(None))"
   ]
  },
  {
   "cell_type": "code",
   "execution_count": 47,
   "id": "d45e541f",
   "metadata": {},
   "outputs": [],
   "source": [
    "df = df.unionByName(unique_imsi)\n",
    "#df.orderBy(\"time_in\").show(5,vertical=True)"
   ]
  },
  {
   "cell_type": "code",
   "execution_count": 48,
   "id": "8d8ecb89",
   "metadata": {},
   "outputs": [],
   "source": [
    "unique_imsi = unique_imsi.withColumn('time_in', F.lit('null'))\n",
    "df = df.unionByName(unique_imsi)\n",
    "df = df.orderBy(\"time_in\")\n",
    "#df.show(5,vertical=True)"
   ]
  },
  {
   "cell_type": "code",
   "execution_count": 49,
   "id": "71ac57ea",
   "metadata": {},
   "outputs": [],
   "source": [
    "from pyspark.sql.functions import lag  \n",
    "from pyspark.sql.functions import lead \n",
    "from pyspark.sql.window import Window\n",
    "from pyspark.sql.functions import row_number\n",
    "from pyspark.sql import functions as f\n",
    "\n",
    "windowSpec  = Window.orderBy(\"time_in\")\n",
    "\n",
    "df = df.withColumn(\"index\",row_number().over(windowSpec))\n"
   ]
  },
  {
   "cell_type": "code",
   "execution_count": 50,
   "id": "7b8eb89b",
   "metadata": {},
   "outputs": [],
   "source": [
    "df=df.withColumn('time_in',F.to_timestamp(df.time_in, 'yyyy-MM-dd HH:mm:ss'))\n",
    "#df.toPandas().to_csv(r\"C:\\Users\\harin\\Desktop\\international\\Raw_Data\\test_output\\raw_data.csv\")"
   ]
  },
  {
   "cell_type": "code",
   "execution_count": 51,
   "id": "3a8989eb",
   "metadata": {},
   "outputs": [],
   "source": [
    "df=df.withColumn('country_name', f.when((f.col('country_name').isNull()),'Data_not_Available').otherwise(f.col('country_name')))\n"
   ]
  },
  {
   "cell_type": "code",
   "execution_count": 52,
   "id": "7ad547c6",
   "metadata": {},
   "outputs": [],
   "source": [
    "#df.filter(col('imsi')=='56aTd4iFWJXhSdDlfpcK0EY2CfkKyBTsKZpo.cjMfs++SDp6yfap97HBQJtSIphC').toPandas().to_csv(r\"C:\\Users\\harin\\Desktop\\international\\Raw_Data\\test_output\\test_data.csv\")"
   ]
  },
  {
   "cell_type": "code",
   "execution_count": 53,
   "id": "8b069b13",
   "metadata": {},
   "outputs": [
    {
     "name": "stdout",
     "output_type": "stream",
     "text": [
      "9\n"
     ]
    }
   ],
   "source": [
    "windowSpec  = Window.partitionBy(\"imsi\").orderBy(\"time_in\")\n",
    "\n",
    "#shift -1 country\n",
    "df = df.withColumn(\"lag_country\",lag(\"country_name\",1).over(windowSpec)) \n",
    "\n",
    "#shift -1 country with only thailand\n",
    "#df = df.withColumn('lag_country_thailand', f.when(f.col('lag_country') == 'thailand', lit(\"thailand\")).otherwise(lit(None)))\n",
    "df = df.withColumn(\"trip_start_id\", F.lit(None))\n",
    "\n",
    "df = df.withColumn('trip_start', f.when((f.col('country_name')!='thailand')&(f.col('lag_country')=='thailand') , lit(\"start\")).otherwise(lit(None)))\n",
    "\n",
    "trip_start = df.filter(df.trip_start=='start')\n",
    "print(trip_start.count())\n",
    "\n",
    "windowSpec  = Window.partitionBy(\"imsi\").orderBy(\"time_in\")\n",
    "trip_start = trip_start.withColumn(\"trip_start_id\",row_number().over(windowSpec))\n",
    "\n",
    "df = df.filter(df.trip_start.isNull())\n",
    "#print(df.count())\n",
    "\n",
    "df = df.unionByName(trip_start)\n",
    "#print(df.count())\n"
   ]
  },
  {
   "cell_type": "code",
   "execution_count": 54,
   "id": "6245340c",
   "metadata": {},
   "outputs": [],
   "source": [
    "windowSpec  = Window.partitionBy(\"imsi\").orderBy(\"time_in\")\n",
    "\n",
    "#shift +1 country\n",
    "df = df.withColumn(\"lead_country\",lead(\"country_name\",1).over(windowSpec))\n",
    "\n",
    "#shift +1 country with only thailand\n",
    "#df = df.withColumn('lead_country_thailand', f.when(f.col('lead_country') == 'thailand', lit(\"thailand\")).otherwise(lit(None)))\n",
    "df = df.withColumn(\"trip_end_id\", F.lit(None))\n",
    "\n",
    "df = df.withColumn('trip_end', f.when((f.col('country_name')!='thailand')&(f.col('lead_country')=='thailand'), lit(\"end\")).otherwise(lit(None)))\n",
    "\n",
    "trip_end = df.filter(df.trip_end=='end')\n",
    "#print(trip_end.count())\n",
    "\n",
    "windowSpec  = Window.partitionBy(\"imsi\").orderBy(\"time_in\")\n",
    "trip_end = trip_end.withColumn(\"trip_end_id\",row_number().over(windowSpec))\n",
    "\n",
    "df = df.filter(df.trip_end.isNull())\n",
    "#print(df.count())\n",
    "\n",
    "df = df.unionByName(trip_end)\n",
    "#print(df.count())\n"
   ]
  },
  {
   "cell_type": "code",
   "execution_count": 55,
   "id": "168b16ac",
   "metadata": {},
   "outputs": [],
   "source": [
    "df = df.withColumn(\"trip_flag\",f.when(f.col('trip_start_id').isNotNull(), lit(1)).otherwise(lit(0)))\n",
    "#print(df.count())"
   ]
  },
  {
   "cell_type": "code",
   "execution_count": 56,
   "id": "be4ace10",
   "metadata": {},
   "outputs": [],
   "source": [
    "windowSpec  = Window.partitionBy(\"imsi\").orderBy(\"time_in\")\n",
    "df = df.withColumn('trip_start_cumsum', f.sum(f.col('trip_flag')).over(windowSpec))\n",
    "#print(df.count())\n"
   ]
  },
  {
   "cell_type": "code",
   "execution_count": 57,
   "id": "67b8c223",
   "metadata": {},
   "outputs": [],
   "source": [
    "#if country != lag_country and country !=thailand\n",
    "df = df.withColumn('sub_start', f.when((f.col('country_name') != f.col('lag_country'))&(f.col('country_name') != 'thailand') , lit(\"start\")).otherwise(lit(None)))\n",
    "df = df.withColumn(\"start_sub_trip_id\", F.lit(None))\n",
    "\n",
    "sub_trip_start = df.filter(df.sub_start=='start')\n",
    "#print(sub_trip_start.count())\n",
    "\n",
    "\n",
    "windowSpec  = Window.partitionBy(\"imsi\",\"trip_start_cumsum\").orderBy(\"time_in\")\n",
    "sub_trip_start = sub_trip_start.withColumn(\"start_sub_trip_id\",row_number().over(windowSpec))\n",
    "\n",
    "df = df.filter(df.sub_start.isNull())\n",
    "#print(df.count())\n",
    "\n",
    "df = df.unionByName(sub_trip_start)\n",
    "#print(df.count())\n"
   ]
  },
  {
   "cell_type": "code",
   "execution_count": 58,
   "id": "a533f08c",
   "metadata": {},
   "outputs": [],
   "source": [
    "df = df.withColumn(\"sub_trip_start_flag\",f.when(f.col('start_sub_trip_id').isNotNull(), lit(1)).otherwise(lit(0)))"
   ]
  },
  {
   "cell_type": "code",
   "execution_count": 59,
   "id": "5458848a",
   "metadata": {},
   "outputs": [],
   "source": [
    "windowSpec  = Window.partitionBy(\"imsi\").orderBy(\"time_in\")\n",
    "df = df.withColumn('sub_trip_start_cumsum', f.sum(f.col('sub_trip_start_flag')).over(windowSpec))"
   ]
  },
  {
   "cell_type": "code",
   "execution_count": 60,
   "id": "fe618c56",
   "metadata": {},
   "outputs": [],
   "source": [
    "operator_name = df.groupBy(\"imsi\",\"trip_start_cumsum\",\"sub_trip_start_cumsum\").agg(collect_list(col(\"operator_name\")).alias('operator'))"
   ]
  },
  {
   "cell_type": "code",
   "execution_count": 61,
   "id": "260de1f7",
   "metadata": {},
   "outputs": [],
   "source": [
    "from pyspark.sql.functions import array_distinct\n",
    "operator_name1 = operator_name.withColumn(\"operator\", array_distinct(\"operator\"))"
   ]
  },
  {
   "cell_type": "code",
   "execution_count": 62,
   "id": "62fcd06b",
   "metadata": {},
   "outputs": [],
   "source": [
    "#if country != lead_country and country !=thailand\n",
    "df = df.withColumn('sub_end', f.when((f.col('country_name') != f.col('lead_country'))&(f.col('country_name') != 'thailand') , lit(\"end\")).otherwise(lit(None)))\n",
    "df = df.withColumn(\"end_sub_trip_id\", F.lit(None))\n",
    "\n",
    "sub_trip_end = df.filter(df.sub_end=='end')\n",
    "#print(sub_trip_end.count())\n",
    "\n",
    "\n",
    "windowSpec  = Window.partitionBy(\"imsi\",\"trip_start_cumsum\").orderBy(\"time_in\")\n",
    "sub_trip_end = sub_trip_end.withColumn(\"end_sub_trip_id\",row_number().over(windowSpec))\n",
    "\n",
    "df = df.filter(df.sub_end.isNull())\n",
    "#print(df.count())\n",
    "\n",
    "df = df.unionByName(sub_trip_end)\n",
    "#print(df.count())\n"
   ]
  },
  {
   "cell_type": "code",
   "execution_count": 63,
   "id": "ff75a524",
   "metadata": {},
   "outputs": [],
   "source": [
    "windowSpec  = Window.partitionBy(\"imsi\").orderBy(\"time_in\")\n",
    "\n",
    "#thailand's last sample time_out\n",
    "df = df.withColumn(\"trip_start_time\",lag(\"time_out\",1).over(windowSpec))\n",
    "\n",
    "#thailand's first sample(after trip) time_in \n",
    "df = df.withColumn(\"trip_end_time\",lead(\"time_in\",1).over(windowSpec)) \n"
   ]
  },
  {
   "cell_type": "code",
   "execution_count": 64,
   "id": "03dc0981",
   "metadata": {},
   "outputs": [],
   "source": [
    "from pyspark.sql.functions import col\n",
    "# for trip\n",
    "trip_start = df.filter(df.trip_start_id.isNotNull()).select('imsi',col('trip_start_id').alias('trip_id'),'trip_start_time')\n",
    "trip_end = df.filter(df.trip_end_id.isNotNull()).select('imsi',col('trip_end_id').alias('trip_id'),'trip_end_time')\n",
    "\n",
    "# for sub_trip\n",
    "sub_trip_start = df.filter(df.start_sub_trip_id.isNotNull()).select('imsi',col('trip_start_cumsum').alias('trip_id'),col('start_sub_trip_id').alias('subtrip_id'),'time_in',col('country_name'))\n",
    "sub_trip_end = df.filter(df.end_sub_trip_id.isNotNull()).select('imsi',col('trip_start_cumsum').alias('trip_id'),col('end_sub_trip_id').alias('subtrip_id'),col('time_in').alias('time_out'))\n"
   ]
  },
  {
   "cell_type": "code",
   "execution_count": 65,
   "id": "d87a29dc",
   "metadata": {},
   "outputs": [],
   "source": [
    "#df.toPandas().to_csv(r\"C:\\Users\\harin\\Desktop\\international\\Raw_Data\\test_output\\trip_start.csv\")"
   ]
  },
  {
   "cell_type": "code",
   "execution_count": 66,
   "id": "c0539733",
   "metadata": {},
   "outputs": [],
   "source": [
    "#trip_end.toPandas().to_csv(r\"C:\\Users\\harin\\Desktop\\international\\Raw_Data\\test_output\\trip_end.csv\")"
   ]
  },
  {
   "cell_type": "code",
   "execution_count": 67,
   "id": "68afffcd",
   "metadata": {},
   "outputs": [],
   "source": [
    "#sub_trip_start.toPandas().to_csv(r\"C:\\Users\\harin\\Desktop\\international\\Raw_Data\\test_output\\sub_trip_start.csv\")"
   ]
  },
  {
   "cell_type": "code",
   "execution_count": 68,
   "id": "0082cee3",
   "metadata": {},
   "outputs": [],
   "source": [
    "#sub_trip_end.toPandas().to_csv(r\"C:\\Users\\harin\\Desktop\\international\\Raw_Data\\test_output\\sub_trip_end.csv\")"
   ]
  },
  {
   "cell_type": "markdown",
   "id": "39d268d4",
   "metadata": {},
   "source": [
    "## Trip level"
   ]
  },
  {
   "cell_type": "code",
   "execution_count": 69,
   "id": "63f2e2d0",
   "metadata": {},
   "outputs": [],
   "source": [
    "trip_start = trip_start.withColumn(\"trip_start_time\", f.when(col(\"trip_start_time\").isNull(), \"Trip_start_missing\").otherwise(col(\"trip_start_time\")))\n",
    "trip_end = trip_end.withColumn(\"trip_end_time\", f.when(col(\"trip_end_time\").isNull(), \"Trip_end_missing\").otherwise(col(\"trip_end_time\")))\n",
    "sub_trip_start = sub_trip_start.withColumn(\"time_in\", f.when(col(\"time_in\").isNull(), \"Trip_start_missing\").otherwise(col(\"time_in\")))\n",
    "sub_trip_end = sub_trip_end.withColumn(\"time_out\", f.when(col(\"time_out\").isNull(), \"Trip_end_missing\").otherwise(col(\"time_out\")))"
   ]
  },
  {
   "cell_type": "code",
   "execution_count": 70,
   "id": "d66fbec2",
   "metadata": {},
   "outputs": [],
   "source": [
    "trip_level = trip_start.join(trip_end, ['imsi','trip_id'], how='outer').orderBy('imsi','trip_id')\n",
    "country_level = sub_trip_start.join(sub_trip_end, ['imsi','trip_id','subtrip_id'], how='outer').orderBy('imsi','trip_id','subtrip_id')"
   ]
  },
  {
   "cell_type": "code",
   "execution_count": 71,
   "id": "df226b4d",
   "metadata": {},
   "outputs": [],
   "source": [
    "df_result=df_result.select(['imsi','grid_id','grid_name','grid_latitude','grid_longitude','source_flag','region_id','region_name',\n",
    " 'sub_region_id','sub_region_name','province_id','province_name','district_id','district_name','sub_district_id','sub_district_name','time_in',\n",
    " 'time_out','hour_in','hour_out','duration','country_network_code','c360_subscription_identifier','inbound_flag','indoor_flag',\n",
    " 'cell_ids','country_name','operator_name','mcc','mnc','cc','ndc','imsi_sim2fly']) \n",
    "df_result=df_result.dropDuplicates()"
   ]
  },
  {
   "cell_type": "code",
   "execution_count": 72,
   "id": "55772a73",
   "metadata": {},
   "outputs": [],
   "source": [
    "#joining with grid Id & Grid name \n",
    "trip_level1 = trip_level.select(\"imsi\", \"trip_id\", \"trip_start_time\",\"trip_end_time\").alias(\"a\")\\\n",
    ".join(df_result.select('imsi','grid_id','grid_name','grid_latitude','grid_longitude','time_in','time_out').dropDuplicates(subset = [\"imsi\",\"time_out\"]).alias(\"b\"),\n",
    "                             (trip_level.imsi==df_result.imsi) & (trip_level.trip_start_time==df_result.time_out),'left')\\\n",
    ".select(\"a.imsi\", \"trip_id\", \"trip_start_time\",\"trip_end_time\",'grid_id','grid_name','grid_latitude','grid_longitude')"
   ]
  },
  {
   "cell_type": "code",
   "execution_count": 73,
   "id": "12ba9f60",
   "metadata": {},
   "outputs": [],
   "source": [
    "trip_level1=trip_level1.withColumnRenamed(\"grid_id\",\"exit_grid_id\").withColumnRenamed(\"grid_name\",\"exit_grid_name\")\\\n",
    ".withColumnRenamed(\"grid_latitude\",\"exit_grid_latitude\").withColumnRenamed(\"grid_longitude\",\"exit_grid_longitude\")"
   ]
  },
  {
   "cell_type": "code",
   "execution_count": 74,
   "id": "f5ff5acd",
   "metadata": {},
   "outputs": [],
   "source": [
    "trip_level2= trip_level1.alias(\"a\")\\\n",
    ".join(df_result.select('imsi','grid_id','grid_name','grid_latitude','grid_longitude','time_in','time_out').dropDuplicates(subset = [\"imsi\",\"time_in\"]).alias(\"b\"),\n",
    "                             (trip_level.imsi==df_result.imsi) & (trip_level.trip_end_time==df_result.time_in),'left')\\\n",
    ".select('a.imsi','trip_id','trip_start_time','trip_end_time','exit_grid_id','exit_grid_name',\n",
    "        'exit_grid_latitude','exit_grid_longitude','grid_id','grid_name','grid_latitude','grid_longitude',)"
   ]
  },
  {
   "cell_type": "code",
   "execution_count": 75,
   "id": "ea400c12",
   "metadata": {},
   "outputs": [],
   "source": [
    "trip_level2=trip_level2.withColumnRenamed(\"grid_id\",\"entry_grid_id\").withColumnRenamed(\"grid_name\",\"entry_grid_name\")\\\n",
    ".withColumnRenamed(\"grid_latitude\",\"entry_grid_latitude\").withColumnRenamed(\"grid_longitude\",\"entry_grid_longitude\")"
   ]
  },
  {
   "cell_type": "code",
   "execution_count": 76,
   "id": "893a0fa5",
   "metadata": {},
   "outputs": [],
   "source": [
    "trip_level2=trip_level2.withColumn(\"trip_end_time\", when(col(\"trip_end_time\").isNull(),'Trip_end_missing'\n",
    "                                                         ).otherwise(col(\"trip_end_time\")))"
   ]
  },
  {
   "cell_type": "code",
   "execution_count": 77,
   "id": "69f112b9",
   "metadata": {},
   "outputs": [],
   "source": [
    "#trip_level3=trip_level2.filter(trip_level2.trip_start_time!=trip_level2.trip_end_time)"
   ]
  },
  {
   "cell_type": "markdown",
   "id": "9c654288",
   "metadata": {},
   "source": [
    "## Sub Trip level"
   ]
  },
  {
   "cell_type": "code",
   "execution_count": 78,
   "id": "4096c56e",
   "metadata": {},
   "outputs": [],
   "source": [
    "# #adding cuntory and oprater \n",
    "# country_level=country_level.select(\"imsi\", \"trip_id\",'subtrip_id', 'time_in', 'time_out' ).alias(\"a\")\\\n",
    "# .join(df_result.select('imsi','country_name','operator_name','time_in').dropDuplicates(subset = [\"imsi\",\"time_in\"]).alias(\"b\"),\n",
    "#                              [\"imsi\",\"time_in\"],'left')\\\n",
    "# .select(\"imsi\", \"trip_id\",'subtrip_id', 'time_in', 'time_out','country_name','operator_name')\n"
   ]
  },
  {
   "cell_type": "code",
   "execution_count": 79,
   "id": "782c0f64",
   "metadata": {},
   "outputs": [],
   "source": [
    "country_level1=country_level.alias(\"a\").join(operator_name1.alias(\"b\"),(country_level.imsi==operator_name1.imsi) & (country_level.subtrip_id==operator_name1.sub_trip_start_cumsum),'left').select('a.imsi','trip_id','subtrip_id','time_in','time_out','country_name','operator')"
   ]
  },
  {
   "cell_type": "code",
   "execution_count": 80,
   "id": "9e316955",
   "metadata": {},
   "outputs": [],
   "source": [
    "country_level1=country_level1.withColumn('operator',col('operator').cast('String'))"
   ]
  },
  {
   "cell_type": "code",
   "execution_count": 81,
   "id": "2c3c729f",
   "metadata": {},
   "outputs": [],
   "source": [
    "country_level1=country_level1.withColumn(\"time_out\", when(col(\"time_out\").isNull(),'Trip_end_missing'\n",
    "                                                         ).otherwise(col(\"time_out\")))"
   ]
  },
  {
   "cell_type": "code",
   "execution_count": 82,
   "id": "683e9775",
   "metadata": {},
   "outputs": [],
   "source": [
    "#country_level1=country_level1.filter(country_level1.time_in!=country_level1.time_out)"
   ]
  },
  {
   "cell_type": "code",
   "execution_count": 83,
   "id": "d76ddec2",
   "metadata": {},
   "outputs": [],
   "source": [
    "country_travel=country_level1.groupby('imsi','trip_id').agg(count(col(\"country_name\")).alias('No_country_name_visit'))"
   ]
  },
  {
   "cell_type": "code",
   "execution_count": 84,
   "id": "d7377d07",
   "metadata": {},
   "outputs": [],
   "source": [
    "trip_level3=trip_level2.join(country_travel,['imsi','trip_id'],'left')"
   ]
  },
  {
   "cell_type": "code",
   "execution_count": 85,
   "id": "c15b681a",
   "metadata": {},
   "outputs": [],
   "source": [
    "#df.repartition(1).write.option(\"header\",True).mode(\"overwrite\").csv(r\"C:\\Users\\harin\\Desktop\\international\\Raw_Data\\test_output\\international_trip_data\")"
   ]
  },
  {
   "cell_type": "code",
   "execution_count": 86,
   "id": "807ecfdd",
   "metadata": {},
   "outputs": [],
   "source": [
    "trip_level3.repartition(1).write.option(\"header\",True).mode(\"overwrite\").csv(r\"C:\\Users\\harin\\Desktop\\international\\Raw_Data\\test_output\\international_trip_nov\")"
   ]
  },
  {
   "cell_type": "code",
   "execution_count": null,
   "id": "983cad5a",
   "metadata": {},
   "outputs": [],
   "source": [
    "country_level1.repartition(1).write.option(\"header\",True).mode(\"overwrite\").csv(r\"C:\\Users\\harin\\Desktop\\international\\Raw_Data\\test_output\\international_sub_trip_nov\")"
   ]
  },
  {
   "cell_type": "code",
   "execution_count": null,
   "id": "3923683d",
   "metadata": {},
   "outputs": [],
   "source": [
    "spark.stop()"
   ]
  },
  {
   "cell_type": "code",
   "execution_count": null,
   "id": "e37d81d3",
   "metadata": {},
   "outputs": [],
   "source": []
  },
  {
   "cell_type": "code",
   "execution_count": null,
   "id": "2c4c2435",
   "metadata": {},
   "outputs": [],
   "source": []
  },
  {
   "cell_type": "code",
   "execution_count": null,
   "id": "21ba0d9f",
   "metadata": {},
   "outputs": [],
   "source": []
  }
 ],
 "metadata": {
  "kernelspec": {
   "display_name": "Python 3 (ipykernel)",
   "language": "python",
   "name": "python3"
  },
  "language_info": {
   "codemirror_mode": {
    "name": "ipython",
    "version": 3
   },
   "file_extension": ".py",
   "mimetype": "text/x-python",
   "name": "python",
   "nbconvert_exporter": "python",
   "pygments_lexer": "ipython3",
   "version": "3.9.12"
  }
 },
 "nbformat": 4,
 "nbformat_minor": 5
}
